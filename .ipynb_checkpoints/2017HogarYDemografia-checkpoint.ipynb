{
 "cells": [
  {
   "cell_type": "markdown",
   "metadata": {},
   "source": [
    "<h1>Preparacion de Datos Proyecto 2</h1>\n",
    "<h2>Grupo 5</h2>\n"
   ]
  },
  {
   "cell_type": "markdown",
   "metadata": {},
   "source": [
    "<h3>Limpieza y preparacion de los datos</h3>"
   ]
  },
  {
   "cell_type": "markdown",
   "metadata": {},
   "source": [
    "<h4>Descripción de los datos</h4>"
   ]
  },
  {
   "cell_type": "markdown",
   "metadata": {},
   "source": [
    "* Análisis de los datos: contienen XXXX registros y XXX variables diferentes.\n",
    "\n",
    "* Variables y tipos de datos: contiene XXX variables de las cuales XXX de ellas son numéricas. \n",
    "\n",
    "* XX son variables categóricas. \n",
    "\n",
    "* Variables Numéricas:\n",
    "\n",
    "A continuación se ve información relevante sobre las variables numéricas:\n",
    "\n",
    "XX se encuentra entre XX y XX, con una desviación estándar que sugiere una alta variabilidad de los datos (XX aproximadamente). \n",
    "\n"
   ]
  },
  {
   "cell_type": "markdown",
   "metadata": {},
   "source": [
    "<h4>Exploración de los datos:</h4>\n",
    "\n",
    "Outliers: se presentan outliers en XXXX con respecto al diccionario de datos\n",
    "    \n",
    "\n",
    "<h4>Calidad de los datos:</h4>\n",
    "\n",
    "Datos Duplicados: Se identificaron XX datos duplicados en el conjunto de datos.\n",
    "\n",
    "Datos incompletos o vacíos: Se encontraron datos vacíos en las variables:\n",
    "\n",
    "Datos categóricos en variables numéricas: Evento es un dato categórico que está representado con variable numérica. Debido a que de este dato no se conoce lo que representa o un rango de valores esperado se planea su eliminación ya que al momento de interpretar la información del modelo no se tendrá claro su significado. \n",
    "\n",
    "Problemas de validez de datos: "
   ]
  },
  {
   "cell_type": "markdown",
   "metadata": {},
   "source": [
    "<h4>Entendimiento de datos:</h4>\n",
    "\n",
    "Datos duplicados: Se eliminan los datos duplicados\n",
    "\n",
    "Datos incompletos o vacíos: \n",
    "\n",
    "\n",
    "Se eliminan los valores atípicos ya que pueden afectar negativamente al modelo.\n",
    "\n",
    "Finalmente, el conjunto de datos posee XXXX registros y XXX variables"
   ]
  },
  {
   "cell_type": "markdown",
   "metadata": {},
   "source": [
    "<h4> 0. Carga de librerías necesarias para implementación y carga de datos</h4>"
   ]
  },
  {
   "cell_type": "code",
   "execution_count": 1,
   "metadata": {},
   "outputs": [],
   "source": [
    "import os\n",
    "\n",
    "import pandas as pd\n",
    "\n",
    "import numpy as np\n",
    "\n",
    "import matplotlib.pyplot as plt\n",
    "\n",
    "import ydata_profiling as pp\n",
    "\n",
    "from sklearn.cluster import AgglomerativeClustering\n",
    "\n",
    "import seaborn as sns; sns.set()  # for plot styling\n",
    "\n",
    "from sklearn.cluster import KMeans\n",
    "\n",
    "from sklearn.metrics import silhouette_samples, silhouette_score\n",
    "\n",
    "from sklearn.preprocessing import MinMaxScaler\n",
    "\n",
    "from sklearn import metrics\n",
    "\n",
    "from sklearn.impute import SimpleImputer\n",
    "\n",
    "from sklearn.preprocessing import LabelEncoder\n",
    "\n",
    "\n",
    "\n",
    "from ydata_profiling import ProfileReport\n",
    "\n",
    "from matplotlib import cm\n",
    "\n",
    "import warnings\n",
    "# Ignorar la advertencia RuntimeWarning\n",
    "warnings.filterwarnings(\"ignore\", category=RuntimeWarning)\n",
    "warnings.filterwarnings(\"ignore\", category=DeprecationWarning)\n",
    "warnings.filterwarnings(\"ignore\", message=\"The figure layout has changed to tight\", category=UserWarning)\n",
    "warnings.simplefilter(action='ignore', category=FutureWarning)\n",
    "warnings.filterwarnings(\"ignore\", message=\"The default value of `n_init` will change from 10 to 'auto' in 1.4.\", category=FutureWarning)"
   ]
  },
  {
   "cell_type": "code",
   "execution_count": 3,
   "metadata": {},
   "outputs": [],
   "source": [
    "# Se cargan los datos. \n",
    "df_hogar = pd.read_csv('data/2017Composicion del hogar y demografia ( Capitulo E).csv',  sep=';',encoding=\"ISO-8859-1\")\n",
    "# se carga el diccionario\n",
    "df_diccio = pd.read_excel('data/Diccionario_anonimizado_DANE_EM2021.xlsx')"
   ]
  },
  {
   "cell_type": "markdown",
   "metadata": {},
   "source": [
    "<strong><h4>1. Entendimiento de los datos</h4></strong>"
   ]
  },
  {
   "cell_type": "markdown",
   "metadata": {},
   "source": [
    "Para entender los datos se considera importante entender la cantidad de datos que se tiene, verificar cuantas columnas y filas tienen los datos proporcionados"
   ]
  },
  {
   "cell_type": "code",
   "execution_count": 4,
   "metadata": {},
   "outputs": [
    {
     "name": "stdout",
     "output_type": "stream",
     "text": [
      ">> El dataframe contiene 56 columnas y 319952 filas\n",
      "\n",
      ">> El dataframe se ve de la siguiente forma: \n"
     ]
    },
    {
     "data": {
      "text/html": [
       "<div>\n",
       "<style scoped>\n",
       "    .dataframe tbody tr th:only-of-type {\n",
       "        vertical-align: middle;\n",
       "    }\n",
       "\n",
       "    .dataframe tbody tr th {\n",
       "        vertical-align: top;\n",
       "    }\n",
       "\n",
       "    .dataframe thead th {\n",
       "        text-align: right;\n",
       "    }\n",
       "</style>\n",
       "<table border=\"1\" class=\"dataframe\">\n",
       "  <thead>\n",
       "    <tr style=\"text-align: right;\">\n",
       "      <th></th>\n",
       "      <th>ï»¿DIRECTORIO_PER</th>\n",
       "      <th>DIRECTORIO_HOG</th>\n",
       "      <th>DIRECTORIO</th>\n",
       "      <th>SECUENCIA_P</th>\n",
       "      <th>ORDEN</th>\n",
       "      <th>NPCEP4</th>\n",
       "      <th>NPCEP5</th>\n",
       "      <th>NPCEP6</th>\n",
       "      <th>NPCEP7</th>\n",
       "      <th>NPCEP8</th>\n",
       "      <th>...</th>\n",
       "      <th>NPCEP22</th>\n",
       "      <th>NPCEP22A</th>\n",
       "      <th>NPCEP24</th>\n",
       "      <th>NPCEP24A</th>\n",
       "      <th>NPCEP25</th>\n",
       "      <th>NPCEP25A</th>\n",
       "      <th>NPCEP27</th>\n",
       "      <th>NPCEP26</th>\n",
       "      <th>NPCEP5A</th>\n",
       "      <th>FEX_C</th>\n",
       "    </tr>\n",
       "  </thead>\n",
       "  <tbody>\n",
       "    <tr>\n",
       "      <th>0</th>\n",
       "      <td>10100011</td>\n",
       "      <td>1010001</td>\n",
       "      <td>101000</td>\n",
       "      <td>1</td>\n",
       "      <td>1</td>\n",
       "      <td>56</td>\n",
       "      <td>1</td>\n",
       "      <td>1</td>\n",
       "      <td>6</td>\n",
       "      <td>1</td>\n",
       "      <td>...</td>\n",
       "      <td>1</td>\n",
       "      <td>3</td>\n",
       "      <td>2</td>\n",
       "      <td></td>\n",
       "      <td>2</td>\n",
       "      <td></td>\n",
       "      <td>1</td>\n",
       "      <td>2</td>\n",
       "      <td>1</td>\n",
       "      <td>16,604442041</td>\n",
       "    </tr>\n",
       "    <tr>\n",
       "      <th>1</th>\n",
       "      <td>10100012</td>\n",
       "      <td>1010001</td>\n",
       "      <td>101000</td>\n",
       "      <td>1</td>\n",
       "      <td>2</td>\n",
       "      <td>48</td>\n",
       "      <td>2</td>\n",
       "      <td>2</td>\n",
       "      <td>6</td>\n",
       "      <td>1</td>\n",
       "      <td>...</td>\n",
       "      <td>1</td>\n",
       "      <td>2</td>\n",
       "      <td>2</td>\n",
       "      <td></td>\n",
       "      <td>10</td>\n",
       "      <td></td>\n",
       "      <td>1</td>\n",
       "      <td>1</td>\n",
       "      <td>2</td>\n",
       "      <td>16,604442041</td>\n",
       "    </tr>\n",
       "    <tr>\n",
       "      <th>2</th>\n",
       "      <td>10100013</td>\n",
       "      <td>1010001</td>\n",
       "      <td>101000</td>\n",
       "      <td>1</td>\n",
       "      <td>3</td>\n",
       "      <td>22</td>\n",
       "      <td>2</td>\n",
       "      <td>3</td>\n",
       "      <td>5</td>\n",
       "      <td></td>\n",
       "      <td>...</td>\n",
       "      <td></td>\n",
       "      <td></td>\n",
       "      <td>1</td>\n",
       "      <td>2</td>\n",
       "      <td></td>\n",
       "      <td></td>\n",
       "      <td>1</td>\n",
       "      <td>1</td>\n",
       "      <td>2</td>\n",
       "      <td>16,604442041</td>\n",
       "    </tr>\n",
       "    <tr>\n",
       "      <th>3</th>\n",
       "      <td>10100111</td>\n",
       "      <td>1010011</td>\n",
       "      <td>101001</td>\n",
       "      <td>1</td>\n",
       "      <td>1</td>\n",
       "      <td>42</td>\n",
       "      <td>1</td>\n",
       "      <td>1</td>\n",
       "      <td>6</td>\n",
       "      <td>1</td>\n",
       "      <td>...</td>\n",
       "      <td>1</td>\n",
       "      <td>4</td>\n",
       "      <td>2</td>\n",
       "      <td></td>\n",
       "      <td>3</td>\n",
       "      <td>4</td>\n",
       "      <td>1</td>\n",
       "      <td>2</td>\n",
       "      <td>1</td>\n",
       "      <td>26,046357048</td>\n",
       "    </tr>\n",
       "    <tr>\n",
       "      <th>4</th>\n",
       "      <td>10100112</td>\n",
       "      <td>1010011</td>\n",
       "      <td>101001</td>\n",
       "      <td>1</td>\n",
       "      <td>2</td>\n",
       "      <td>43</td>\n",
       "      <td>2</td>\n",
       "      <td>2</td>\n",
       "      <td>6</td>\n",
       "      <td>1</td>\n",
       "      <td>...</td>\n",
       "      <td>1</td>\n",
       "      <td>1</td>\n",
       "      <td>2</td>\n",
       "      <td></td>\n",
       "      <td>1</td>\n",
       "      <td>3</td>\n",
       "      <td>1</td>\n",
       "      <td>1</td>\n",
       "      <td>2</td>\n",
       "      <td>26,046357048</td>\n",
       "    </tr>\n",
       "  </tbody>\n",
       "</table>\n",
       "<p>5 rows × 56 columns</p>\n",
       "</div>"
      ],
      "text/plain": [
       "   ï»¿DIRECTORIO_PER  DIRECTORIO_HOG  DIRECTORIO  SECUENCIA_P  ORDEN  NPCEP4  \\\n",
       "0           10100011         1010001      101000            1      1      56   \n",
       "1           10100012         1010001      101000            1      2      48   \n",
       "2           10100013         1010001      101000            1      3      22   \n",
       "3           10100111         1010011      101001            1      1      42   \n",
       "4           10100112         1010011      101001            1      2      43   \n",
       "\n",
       "   NPCEP5  NPCEP6 NPCEP7 NPCEP8  ... NPCEP22  NPCEP22A NPCEP24 NPCEP24A  \\\n",
       "0       1       1      6      1  ...       1         3       2            \n",
       "1       2       2      6      1  ...       1         2       2            \n",
       "2       2       3      5         ...                         1        2   \n",
       "3       1       1      6      1  ...       1         4       2            \n",
       "4       2       2      6      1  ...       1         1       2            \n",
       "\n",
       "  NPCEP25  NPCEP25A NPCEP27 NPCEP26 NPCEP5A         FEX_C  \n",
       "0       2                 1       2       1  16,604442041  \n",
       "1      10                 1       1       2  16,604442041  \n",
       "2                         1       1       2  16,604442041  \n",
       "3       3         4       1       2       1  26,046357048  \n",
       "4       1         3       1       1       2  26,046357048  \n",
       "\n",
       "[5 rows x 56 columns]"
      ]
     },
     "execution_count": 4,
     "metadata": {},
     "output_type": "execute_result"
    }
   ],
   "source": [
    "df_dim = df_hogar.shape\n",
    "print(\">> El dataframe contiene {} columnas y {} filas\\n\".format(df_dim[1], df_dim[0]))\n",
    "print(\">> El dataframe se ve de la siguiente forma: \")\n",
    "df_hogar.head()"
   ]
  },
  {
   "cell_type": "code",
   "execution_count": 5,
   "metadata": {},
   "outputs": [
    {
     "name": "stdout",
     "output_type": "stream",
     "text": [
      ">> El diccionario de datos es el siguiente: \n"
     ]
    },
    {
     "data": {
      "text/html": [
       "<div>\n",
       "<style scoped>\n",
       "    .dataframe tbody tr th:only-of-type {\n",
       "        vertical-align: middle;\n",
       "    }\n",
       "\n",
       "    .dataframe tbody tr th {\n",
       "        vertical-align: top;\n",
       "    }\n",
       "\n",
       "    .dataframe thead th {\n",
       "        text-align: right;\n",
       "    }\n",
       "</style>\n",
       "<table border=\"1\" class=\"dataframe\">\n",
       "  <thead>\n",
       "    <tr style=\"text-align: right;\">\n",
       "      <th></th>\n",
       "      <th>NOMBRE COLUMNA</th>\n",
       "      <th>TEXTO_PREGUNTA</th>\n",
       "    </tr>\n",
       "  </thead>\n",
       "  <tbody>\n",
       "    <tr>\n",
       "      <th>0</th>\n",
       "      <td>DIRECTORIO</td>\n",
       "      <td>Identificador numérico de vivienda</td>\n",
       "    </tr>\n",
       "    <tr>\n",
       "      <th>1</th>\n",
       "      <td>DPTO</td>\n",
       "      <td>1. Departamento</td>\n",
       "    </tr>\n",
       "    <tr>\n",
       "      <th>2</th>\n",
       "      <td>MPIO</td>\n",
       "      <td>2. Municipio</td>\n",
       "    </tr>\n",
       "    <tr>\n",
       "      <th>3</th>\n",
       "      <td>CLASE</td>\n",
       "      <td>clase</td>\n",
       "    </tr>\n",
       "    <tr>\n",
       "      <th>4</th>\n",
       "      <td>COD_LOCALIDAD</td>\n",
       "      <td>Código de la localidad</td>\n",
       "    </tr>\n",
       "    <tr>\n",
       "      <th>...</th>\n",
       "      <td>...</td>\n",
       "      <td>...</td>\n",
       "    </tr>\n",
       "    <tr>\n",
       "      <th>1588</th>\n",
       "      <td>NHCMP12AUA24</td>\n",
       "      <td>12.2.25.25 Insumos para actividades agrícolas del hogar. Solo Bogotá rural y municipios                                                                      ¿En cuánto estima el valor obtenido</td>\n",
       "    </tr>\n",
       "    <tr>\n",
       "      <th>1589</th>\n",
       "      <td>NHCMP12AUB24_1</td>\n",
       "      <td>12.2.25. ¿Cómo lo obtuvieron?                                                                                              1 Tomado de un negocio del hogar\\nInsumos para actividades agrícolas del hogar. Solo Bogotá rural y municipios</td>\n",
       "    </tr>\n",
       "    <tr>\n",
       "      <th>1590</th>\n",
       "      <td>NHCMP12AUB24_2</td>\n",
       "      <td>12.2.25 ¿Cómo lo obtuvieron?                                                                                            2 Recibido como pago por trabajo\\nInsumos para actividades agrícolas del hogar. Solo Bogotá rural y municipios</td>\n",
       "    </tr>\n",
       "    <tr>\n",
       "      <th>1591</th>\n",
       "      <td>NHCMP12AUB24_3</td>\n",
       "      <td>12.2.25  ¿Cómo lo obtuvieron?                                                                                            3 Regalado\\nInsumos para actividades agrícolas del hogar. Solo Bogotá rural y municipios</td>\n",
       "    </tr>\n",
       "    <tr>\n",
       "      <th>1592</th>\n",
       "      <td>NHCMP12AUB24_4</td>\n",
       "      <td>12.2.25 ¿Cómo lo obtuvieron?                                                                                                   4 Por intercambio o trueque\\nInsumos para actividades agrícolas del hogar. Solo Bogotá rural y municipios</td>\n",
       "    </tr>\n",
       "  </tbody>\n",
       "</table>\n",
       "<p>1593 rows × 2 columns</p>\n",
       "</div>"
      ],
      "text/plain": [
       "      NOMBRE COLUMNA  \\\n",
       "0         DIRECTORIO   \n",
       "1               DPTO   \n",
       "2               MPIO   \n",
       "3              CLASE   \n",
       "4      COD_LOCALIDAD   \n",
       "...              ...   \n",
       "1588    NHCMP12AUA24   \n",
       "1589  NHCMP12AUB24_1   \n",
       "1590  NHCMP12AUB24_2   \n",
       "1591  NHCMP12AUB24_3   \n",
       "1592  NHCMP12AUB24_4   \n",
       "\n",
       "                                                                                                                                                                                                                                   TEXTO_PREGUNTA  \n",
       "0                                                                                                                                                                                                              Identificador numérico de vivienda  \n",
       "1                                                                                                                                                                                                                                 1. Departamento  \n",
       "2                                                                                                                                                                                                                                    2. Municipio  \n",
       "3                                                                                                                                                                                                                                           clase  \n",
       "4                                                                                                                                                                                                                          Código de la localidad  \n",
       "...                                                                                                                                                                                                                                           ...  \n",
       "1588                                             12.2.25.25 Insumos para actividades agrícolas del hogar. Solo Bogotá rural y municipios                                                                      ¿En cuánto estima el valor obtenido  \n",
       "1589  12.2.25. ¿Cómo lo obtuvieron?                                                                                              1 Tomado de un negocio del hogar\\nInsumos para actividades agrícolas del hogar. Solo Bogotá rural y municipios    \n",
       "1590     12.2.25 ¿Cómo lo obtuvieron?                                                                                            2 Recibido como pago por trabajo\\nInsumos para actividades agrícolas del hogar. Solo Bogotá rural y municipios    \n",
       "1591                          12.2.25  ¿Cómo lo obtuvieron?                                                                                            3 Regalado\\nInsumos para actividades agrícolas del hogar. Solo Bogotá rural y municipios    \n",
       "1592   12.2.25 ¿Cómo lo obtuvieron?                                                                                                   4 Por intercambio o trueque\\nInsumos para actividades agrícolas del hogar. Solo Bogotá rural y municipios    \n",
       "\n",
       "[1593 rows x 2 columns]"
      ]
     },
     "execution_count": 5,
     "metadata": {},
     "output_type": "execute_result"
    }
   ],
   "source": [
    "\n",
    "pd.set_option('display.max_colwidth', None)\n",
    "df_diccio.rename(columns={'ï»¿Variable name': 'Column'}, inplace=True)\n",
    "print(\">> El diccionario de datos es el siguiente: \")\n",
    "df_diccio[['NOMBRE COLUMNA', 'TEXTO_PREGUNTA']]"
   ]
  },
  {
   "cell_type": "markdown",
   "metadata": {},
   "source": [
    "<h5>1.1. Entendimiento de contenido</h5>"
   ]
  },
  {
   "cell_type": "markdown",
   "metadata": {},
   "source": [
    "Se visualizan las variables para identificar tendencias, correlaciones y posibles valores atípicos que pueden afectar nuestro proceso de análisis y toma de decisiones. "
   ]
  },
  {
   "cell_type": "code",
   "execution_count": 6,
   "metadata": {},
   "outputs": [
    {
     "name": "stdout",
     "output_type": "stream",
     "text": [
      ">> Se visualizan los datos en conjunto: \n"
     ]
    },
    {
     "data": {
      "image/png": "[encoded data removed]",
      "text/plain": [
       "<Figure size 5000x3000 with 1 Axes>"
      ]
     },
     "metadata": {},
     "output_type": "display_data"
    }
   ],
   "source": [
    "# Visualización de todas las variables\n",
    "fig = plt.figure(figsize=(50, 30))\n",
    "ax = sns.boxplot(data=df_hogar, orient=\"v\")\n",
    "print(\">> Se visualizan los datos en conjunto: \")\n",
    "plt.show()"
   ]
  },
  {
   "cell_type": "markdown",
   "metadata": {},
   "source": [
    "Ya que se tienen escalas significativamente diferentes, se procede a normalizar los datos, para que que cada columna contribuya de manera igual al análisis y evitar cualquier sesgo causado por las diferencias en las escalas.\n",
    "\n",
    "Para normalizar los datos, utilizaremos la técnica de escala Min-Max, que transforma cada valor en una columna a un valor entre 0 y 10 basado en los valores mínimo y máximo en esa columna.\n",
    "\n",
    "Una vez que los datos estén normalizados, podemos proceder con el entendimiento de los datos al poder observarlos mejor.\n"
   ]
  },
  {
   "cell_type": "markdown",
   "metadata": {},
   "source": [
    "<h5>1.2. Calidad de datos</h5>"
   ]
  },
  {
   "cell_type": "markdown",
   "metadata": {},
   "source": [
    "En esta sección se identifican los datos que son incorrectos."
   ]
  },
  {
   "cell_type": "code",
   "execution_count": 7,
   "metadata": {},
   "outputs": [
    {
     "name": "stdout",
     "output_type": "stream",
     "text": [
      ">> Se puede observar la información detallada de cada columna:\n",
      "\n",
      "<class 'pandas.core.frame.DataFrame'>\n",
      "RangeIndex: 319952 entries, 0 to 319951\n",
      "Data columns (total 56 columns):\n",
      " #   Column             Non-Null Count   Dtype \n",
      "---  ------             --------------   ----- \n",
      " 0   ï»¿DIRECTORIO_PER  319952 non-null  int64 \n",
      " 1   DIRECTORIO_HOG     319952 non-null  int64 \n",
      " 2   DIRECTORIO         319952 non-null  int64 \n",
      " 3   SECUENCIA_P        319952 non-null  int64 \n",
      " 4   ORDEN              319952 non-null  int64 \n",
      " 5   NPCEP4             319952 non-null  int64 \n",
      " 6   NPCEP5             319952 non-null  int64 \n",
      " 7   NPCEP6             319952 non-null  int64 \n",
      " 8   NPCEP7             319952 non-null  object\n",
      " 9   NPCEP8             319952 non-null  object\n",
      " 10  NPCEP8A            319952 non-null  object\n",
      " 11  NPCEP9             319952 non-null  int64 \n",
      " 12  NPCEP9A            319952 non-null  object\n",
      " 13  NPCEP9B            319952 non-null  object\n",
      " 14  NPCEP10            319952 non-null  object\n",
      " 15  NPCEP11A           319952 non-null  int64 \n",
      " 16  NPCEP11AA          319952 non-null  object\n",
      " 17  NPCEP11AB          319952 non-null  object\n",
      " 18  NPCEP11AC          319952 non-null  object\n",
      " 19  NPCEP11            319952 non-null  int64 \n",
      " 20  NPCEP13            319952 non-null  object\n",
      " 21  NPCEP13A           319952 non-null  object\n",
      " 22  NPCEP13B           319952 non-null  object\n",
      " 23  NPCEP13C           319952 non-null  object\n",
      " 24  NPCEP14            319952 non-null  object\n",
      " 25  NPCEP15            319952 non-null  object\n",
      " 26  NPCEP16A           319952 non-null  object\n",
      " 27  NPCEP16B           319952 non-null  object\n",
      " 28  NPCEP16C           319952 non-null  object\n",
      " 29  NPCEP16D           319952 non-null  object\n",
      " 30  NPCEP16E           319952 non-null  object\n",
      " 31  NPCEP16F           319952 non-null  object\n",
      " 32  NPCEP16G           319952 non-null  object\n",
      " 33  NPCEP16H           319952 non-null  object\n",
      " 34  NPCEP16I           319952 non-null  object\n",
      " 35  NPCEP16J           319952 non-null  object\n",
      " 36  NPCEP16K           319952 non-null  object\n",
      " 37  NPCEP16A1          319952 non-null  object\n",
      " 38  NPCEP16AA          319952 non-null  object\n",
      " 39  NPCEP16AB          319952 non-null  object\n",
      " 40  NPCEP16B1          319952 non-null  object\n",
      " 41  NPCEP17            319952 non-null  int64 \n",
      " 42  NPCEP18            319952 non-null  object\n",
      " 43  NPCEP19            319952 non-null  object\n",
      " 44  NPCEP21            319952 non-null  int64 \n",
      " 45  NPCEP21A           319952 non-null  object\n",
      " 46  NPCEP22            319952 non-null  object\n",
      " 47  NPCEP22A           319952 non-null  object\n",
      " 48  NPCEP24            319952 non-null  int64 \n",
      " 49  NPCEP24A           319952 non-null  object\n",
      " 50  NPCEP25            319952 non-null  object\n",
      " 51  NPCEP25A           319952 non-null  object\n",
      " 52  NPCEP27            319952 non-null  object\n",
      " 53  NPCEP26            319952 non-null  object\n",
      " 54  NPCEP5A            319952 non-null  int64 \n",
      " 55  FEX_C              319952 non-null  object\n",
      "dtypes: int64(15), object(41)\n",
      "memory usage: 136.7+ MB\n"
     ]
    }
   ],
   "source": [
    "print(\">> Se puede observar la información detallada de cada columna:\\n\")\n",
    "df_hogar.info()"
   ]
  },
  {
   "cell_type": "code",
   "execution_count": 8,
   "metadata": {},
   "outputs": [],
   "source": [
    "#non_numeric_balance = df_plantas[pd.to_numeric(df_plantas['Luz'], errors='coerce').isnull()]\n",
    "#print(\">> A continuación se muestran los datos no numéricos de la columna:\\n\")\n",
    "#print(non_numeric_balance[['No', 'Microbio']])\n"
   ]
  },
  {
   "cell_type": "markdown",
   "metadata": {},
   "source": [
    "<h5>Análisis de completitud, unicidad y validez</h5>"
   ]
  },
  {
   "cell_type": "code",
   "execution_count": 9,
   "metadata": {},
   "outputs": [
    {
     "name": "stdout",
     "output_type": "stream",
     "text": [
      ">> Los porcentajes de valores nulos en cada columna son los siguientes: \n",
      "ï»¿DIRECTORIO_PER    0.0\n",
      "DIRECTORIO_HOG       0.0\n",
      "NPCEP16E             0.0\n",
      "NPCEP16F             0.0\n",
      "NPCEP16G             0.0\n",
      "NPCEP16H             0.0\n",
      "NPCEP16I             0.0\n",
      "NPCEP16J             0.0\n",
      "NPCEP16K             0.0\n",
      "NPCEP16A1            0.0\n",
      "NPCEP16AA            0.0\n",
      "NPCEP16AB            0.0\n",
      "NPCEP16B1            0.0\n",
      "NPCEP17              0.0\n",
      "NPCEP18              0.0\n",
      "NPCEP19              0.0\n",
      "NPCEP21              0.0\n",
      "NPCEP21A             0.0\n",
      "NPCEP22              0.0\n",
      "NPCEP22A             0.0\n",
      "NPCEP24              0.0\n",
      "NPCEP24A             0.0\n",
      "NPCEP25              0.0\n",
      "NPCEP25A             0.0\n",
      "NPCEP27              0.0\n",
      "NPCEP26              0.0\n",
      "NPCEP5A              0.0\n",
      "NPCEP16D             0.0\n",
      "NPCEP16C             0.0\n",
      "NPCEP16B             0.0\n",
      "NPCEP9B              0.0\n",
      "DIRECTORIO           0.0\n",
      "SECUENCIA_P          0.0\n",
      "ORDEN                0.0\n",
      "NPCEP4               0.0\n",
      "NPCEP5               0.0\n",
      "NPCEP6               0.0\n",
      "NPCEP7               0.0\n",
      "NPCEP8               0.0\n",
      "NPCEP8A              0.0\n",
      "NPCEP9               0.0\n",
      "NPCEP9A              0.0\n",
      "NPCEP10              0.0\n",
      "NPCEP16A             0.0\n",
      "NPCEP11A             0.0\n",
      "NPCEP11AA            0.0\n",
      "NPCEP11AB            0.0\n",
      "NPCEP11AC            0.0\n",
      "NPCEP11              0.0\n",
      "NPCEP13              0.0\n",
      "NPCEP13A             0.0\n",
      "NPCEP13B             0.0\n",
      "NPCEP13C             0.0\n",
      "NPCEP14              0.0\n",
      "NPCEP15              0.0\n",
      "FEX_C                0.0\n",
      "dtype: float64\n"
     ]
    }
   ],
   "source": [
    "pd.set_option('display.max_rows', None)\n",
    "\n",
    "# Calcula los porcentajes de valores nulos en cada columna y muéstralos\n",
    "print(\">> Los porcentajes de valores nulos en cada columna son los siguientes: \")\n",
    "print((df_hogar.isnull().sum() / len(df_hogar) * 100).sort_values(ascending=False))\n"
   ]
  },
  {
   "cell_type": "code",
   "execution_count": null,
   "metadata": {},
   "outputs": [
    {
     "data": {
      "application/vnd.jupyter.widget-view+json": {
       "model_id": "d46b33a4cab941e28c1790a894b58d4a",
       "version_major": 2,
       "version_minor": 0
      },
      "text/plain": [
       "Summarize dataset:   0%|          | 0/5 [00:00<?, ?it/s]"
      ]
     },
     "metadata": {},
     "output_type": "display_data"
    }
   ],
   "source": [
    "profile = ProfileReport(df_hogar, title=\"Reporte de Hogar y Demografía 2017\")\n",
    "profile.to_notebook_iframe()\n",
    "profile.to_file(\"2017HogarYDemografia.html\")"
   ]
  },
  {
   "cell_type": "code",
   "execution_count": null,
   "metadata": {},
   "outputs": [],
   "source": []
  }
 ],
 "metadata": {
  "kernelspec": {
   "display_name": "Python 3 (ipykernel)",
   "language": "python",
   "name": "python3"
  },
  "language_info": {
   "codemirror_mode": {
    "name": "ipython",
    "version": 3
   },
   "file_extension": ".py",
   "mimetype": "text/x-python",
   "name": "python",
   "nbconvert_exporter": "python",
   "pygments_lexer": "ipython3",
   "version": "3.11.5"
  }
 },
 "nbformat": 4,
 "nbformat_minor": 4
}
