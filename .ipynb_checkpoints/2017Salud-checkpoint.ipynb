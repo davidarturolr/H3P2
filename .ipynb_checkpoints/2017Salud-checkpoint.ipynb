{
 "cells": [
  {
   "cell_type": "markdown",
   "metadata": {},
   "source": [
    "<h1>Preparacion de Datos Proyecto 2</h1>\n",
    "<h2>Grupo 5</h2>\n"
   ]
  },
  {
   "cell_type": "markdown",
   "metadata": {},
   "source": [
    "<h3>Limpieza y preparacion de los datos</h3>"
   ]
  },
  {
   "cell_type": "markdown",
   "metadata": {},
   "source": [
    "<h4>Descripción de los datos</h4>"
   ]
  },
  {
   "cell_type": "markdown",
   "metadata": {},
   "source": [
    "* Análisis de los datos: contienen XXXX registros y XXX variables diferentes.\n",
    "\n",
    "* Variables y tipos de datos: contiene XXX variables de las cuales XXX de ellas son numéricas. \n",
    "\n",
    "* XX son variables categóricas. \n",
    "\n",
    "* Variables Numéricas:\n",
    "\n",
    "A continuación se ve información relevante sobre las variables numéricas:\n",
    "\n",
    "XX se encuentra entre XX y XX, con una desviación estándar que sugiere una alta variabilidad de los datos (XX aproximadamente). \n",
    "\n"
   ]
  },
  {
   "cell_type": "markdown",
   "metadata": {},
   "source": [
    "<h4>Exploración de los datos:</h4>\n",
    "\n",
    "Outliers: se presentan outliers en XXXX con respecto al diccionario de datos\n",
    "    \n",
    "\n",
    "<h4>Calidad de los datos:</h4>\n",
    "\n",
    "Datos Duplicados: Se identificaron XX datos duplicados en el conjunto de datos.\n",
    "\n",
    "Datos incompletos o vacíos: Se encontraron datos vacíos en las variables:\n",
    "\n",
    "Datos categóricos en variables numéricas: Evento es un dato categórico que está representado con variable numérica. Debido a que de este dato no se conoce lo que representa o un rango de valores esperado se planea su eliminación ya que al momento de interpretar la información del modelo no se tendrá claro su significado. \n",
    "\n",
    "Problemas de validez de datos: "
   ]
  },
  {
   "cell_type": "markdown",
   "metadata": {},
   "source": [
    "<h4>Entendimiento de datos:</h4>\n",
    "\n",
    "Datos duplicados: Se eliminan los datos duplicados\n",
    "\n",
    "Datos incompletos o vacíos: \n",
    "\n",
    "\n",
    "Se eliminan los valores atípicos ya que pueden afectar negativamente al modelo.\n",
    "\n",
    "Finalmente, el conjunto de datos posee XXXX registros y XXX variables"
   ]
  },
  {
   "cell_type": "markdown",
   "metadata": {},
   "source": [
    "<h4> 0. Carga de librerías necesarias para implementación y carga de datos</h4>"
   ]
  },
  {
   "cell_type": "code",
   "execution_count": 1,
   "metadata": {},
   "outputs": [],
   "source": [
    "import os\n",
    "\n",
    "import pandas as pd\n",
    "\n",
    "import numpy as np\n",
    "\n",
    "import matplotlib.pyplot as plt\n",
    "\n",
    "import ydata_profiling as pp\n",
    "\n",
    "from sklearn.cluster import AgglomerativeClustering\n",
    "\n",
    "import seaborn as sns; sns.set()  # for plot styling\n",
    "\n",
    "from sklearn.cluster import KMeans\n",
    "\n",
    "from sklearn.metrics import silhouette_samples, silhouette_score\n",
    "\n",
    "from sklearn.preprocessing import MinMaxScaler\n",
    "\n",
    "from sklearn import metrics\n",
    "\n",
    "from sklearn.impute import SimpleImputer\n",
    "\n",
    "from sklearn.preprocessing import LabelEncoder\n",
    "\n",
    "\n",
    "\n",
    "from ydata_profiling import ProfileReport\n",
    "\n",
    "from matplotlib import cm\n",
    "\n",
    "import warnings\n",
    "# Ignorar la advertencia RuntimeWarning\n",
    "warnings.filterwarnings(\"ignore\", category=RuntimeWarning)\n",
    "warnings.filterwarnings(\"ignore\", category=DeprecationWarning)\n",
    "warnings.filterwarnings(\"ignore\", message=\"The figure layout has changed to tight\", category=UserWarning)\n",
    "warnings.simplefilter(action='ignore', category=FutureWarning)\n",
    "warnings.filterwarnings(\"ignore\", message=\"The default value of `n_init` will change from 10 to 'auto' in 1.4.\", category=FutureWarning)"
   ]
  },
  {
   "cell_type": "code",
   "execution_count": 2,
   "metadata": {},
   "outputs": [
    {
     "name": "stderr",
     "output_type": "stream",
     "text": [
      "/var/folders/w3/t2935_7x62b9hrwjqyk29v6c0000gn/T/ipykernel_71235/3808822815.py:2: DtypeWarning: Columns (112) have mixed types. Specify dtype option on import or set low_memory=False.\n",
      "  df_salud = pd.read_csv('data/2017Salud ( Capitulo F).csv',  sep=';',encoding=\"ISO-8859-1\")\n"
     ]
    }
   ],
   "source": [
    "# Se cargan los datos. \n",
    "df_salud = pd.read_csv('data/2017Salud ( Capitulo F).csv',  sep=';',encoding=\"ISO-8859-1\")\n",
    "# se carga el diccionario\n",
    "df_diccio = pd.read_excel('data/Diccionario_anonimizado_DANE_EM2021.xlsx')"
   ]
  },
  {
   "cell_type": "markdown",
   "metadata": {},
   "source": [
    "<strong><h4>1. Entendimiento de los datos</h4></strong>"
   ]
  },
  {
   "cell_type": "markdown",
   "metadata": {},
   "source": [
    "Para entender los datos se considera importante entender la cantidad de datos que se tiene, verificar cuantas columnas y filas tienen los datos proporcionados"
   ]
  },
  {
   "cell_type": "code",
   "execution_count": 3,
   "metadata": {},
   "outputs": [
    {
     "name": "stdout",
     "output_type": "stream",
     "text": [
      ">> El dataframe contiene 113 columnas y 319952 filas\n",
      "\n",
      ">> El dataframe se ve de la siguiente forma: \n"
     ]
    },
    {
     "data": {
      "text/html": [
       "<div>\n",
       "<style scoped>\n",
       "    .dataframe tbody tr th:only-of-type {\n",
       "        vertical-align: middle;\n",
       "    }\n",
       "\n",
       "    .dataframe tbody tr th {\n",
       "        vertical-align: top;\n",
       "    }\n",
       "\n",
       "    .dataframe thead th {\n",
       "        text-align: right;\n",
       "    }\n",
       "</style>\n",
       "<table border=\"1\" class=\"dataframe\">\n",
       "  <thead>\n",
       "    <tr style=\"text-align: right;\">\n",
       "      <th></th>\n",
       "      <th>ï»¿DIRECTORIO_PER</th>\n",
       "      <th>DIRECTORIO_HOG</th>\n",
       "      <th>DIRECTORIO</th>\n",
       "      <th>SECUENCIA_P</th>\n",
       "      <th>ORDEN</th>\n",
       "      <th>NPCFP1</th>\n",
       "      <th>NPCFP2</th>\n",
       "      <th>NPCFP3</th>\n",
       "      <th>NPCFP4A</th>\n",
       "      <th>NPCFP4B</th>\n",
       "      <th>...</th>\n",
       "      <th>NPCFP40E</th>\n",
       "      <th>NPCFP40F</th>\n",
       "      <th>NPCFP40</th>\n",
       "      <th>NPCFP41</th>\n",
       "      <th>NPCFP42</th>\n",
       "      <th>NPCFP43</th>\n",
       "      <th>NPCFP43A</th>\n",
       "      <th>NPCFP44</th>\n",
       "      <th>NPCFP45</th>\n",
       "      <th>FEX_C</th>\n",
       "    </tr>\n",
       "  </thead>\n",
       "  <tbody>\n",
       "    <tr>\n",
       "      <th>0</th>\n",
       "      <td>10100011</td>\n",
       "      <td>1010001</td>\n",
       "      <td>101000</td>\n",
       "      <td>1</td>\n",
       "      <td>1</td>\n",
       "      <td>1</td>\n",
       "      <td>1</td>\n",
       "      <td></td>\n",
       "      <td></td>\n",
       "      <td></td>\n",
       "      <td>...</td>\n",
       "      <td>2</td>\n",
       "      <td>2</td>\n",
       "      <td></td>\n",
       "      <td></td>\n",
       "      <td></td>\n",
       "      <td></td>\n",
       "      <td></td>\n",
       "      <td></td>\n",
       "      <td></td>\n",
       "      <td>16,604442041</td>\n",
       "    </tr>\n",
       "    <tr>\n",
       "      <th>1</th>\n",
       "      <td>10100012</td>\n",
       "      <td>1010001</td>\n",
       "      <td>101000</td>\n",
       "      <td>1</td>\n",
       "      <td>2</td>\n",
       "      <td>1</td>\n",
       "      <td>1</td>\n",
       "      <td></td>\n",
       "      <td>1</td>\n",
       "      <td></td>\n",
       "      <td>...</td>\n",
       "      <td>2</td>\n",
       "      <td>1</td>\n",
       "      <td>1</td>\n",
       "      <td>3</td>\n",
       "      <td></td>\n",
       "      <td>1</td>\n",
       "      <td>22</td>\n",
       "      <td></td>\n",
       "      <td></td>\n",
       "      <td>16,604442041</td>\n",
       "    </tr>\n",
       "    <tr>\n",
       "      <th>2</th>\n",
       "      <td>10100013</td>\n",
       "      <td>1010001</td>\n",
       "      <td>101000</td>\n",
       "      <td>1</td>\n",
       "      <td>3</td>\n",
       "      <td>1</td>\n",
       "      <td>1</td>\n",
       "      <td></td>\n",
       "      <td></td>\n",
       "      <td></td>\n",
       "      <td>...</td>\n",
       "      <td>2</td>\n",
       "      <td>1</td>\n",
       "      <td>2</td>\n",
       "      <td></td>\n",
       "      <td></td>\n",
       "      <td></td>\n",
       "      <td></td>\n",
       "      <td>1</td>\n",
       "      <td>1</td>\n",
       "      <td>16,604442041</td>\n",
       "    </tr>\n",
       "    <tr>\n",
       "      <th>3</th>\n",
       "      <td>10100111</td>\n",
       "      <td>1010011</td>\n",
       "      <td>101001</td>\n",
       "      <td>1</td>\n",
       "      <td>1</td>\n",
       "      <td>1</td>\n",
       "      <td>2</td>\n",
       "      <td></td>\n",
       "      <td></td>\n",
       "      <td></td>\n",
       "      <td>...</td>\n",
       "      <td>2</td>\n",
       "      <td>2</td>\n",
       "      <td></td>\n",
       "      <td></td>\n",
       "      <td></td>\n",
       "      <td></td>\n",
       "      <td></td>\n",
       "      <td></td>\n",
       "      <td></td>\n",
       "      <td>26,046357048</td>\n",
       "    </tr>\n",
       "    <tr>\n",
       "      <th>4</th>\n",
       "      <td>10100112</td>\n",
       "      <td>1010011</td>\n",
       "      <td>101001</td>\n",
       "      <td>1</td>\n",
       "      <td>2</td>\n",
       "      <td>1</td>\n",
       "      <td>2</td>\n",
       "      <td></td>\n",
       "      <td></td>\n",
       "      <td></td>\n",
       "      <td>...</td>\n",
       "      <td>2</td>\n",
       "      <td>2</td>\n",
       "      <td>1</td>\n",
       "      <td>3</td>\n",
       "      <td></td>\n",
       "      <td>1</td>\n",
       "      <td>23</td>\n",
       "      <td></td>\n",
       "      <td></td>\n",
       "      <td>26,046357048</td>\n",
       "    </tr>\n",
       "  </tbody>\n",
       "</table>\n",
       "<p>5 rows × 113 columns</p>\n",
       "</div>"
      ],
      "text/plain": [
       "   ï»¿DIRECTORIO_PER  DIRECTORIO_HOG  DIRECTORIO  SECUENCIA_P  ORDEN  NPCFP1  \\\n",
       "0           10100011         1010001      101000            1      1       1   \n",
       "1           10100012         1010001      101000            1      2       1   \n",
       "2           10100013         1010001      101000            1      3       1   \n",
       "3           10100111         1010011      101001            1      1       1   \n",
       "4           10100112         1010011      101001            1      2       1   \n",
       "\n",
       "  NPCFP2 NPCFP3 NPCFP4A NPCFP4B  ... NPCFP40E NPCFP40F NPCFP40 NPCFP41  \\\n",
       "0      1                         ...        2        2                   \n",
       "1      1              1          ...        2        1       1       3   \n",
       "2      1                         ...        2        1       2           \n",
       "3      2                         ...        2        2                   \n",
       "4      2                         ...        2        2       1       3   \n",
       "\n",
       "  NPCFP42 NPCFP43 NPCFP43A NPCFP44 NPCFP45         FEX_C  \n",
       "0                                           16,604442041  \n",
       "1               1       22                  16,604442041  \n",
       "2                                1       1  16,604442041  \n",
       "3                                           26,046357048  \n",
       "4               1       23                  26,046357048  \n",
       "\n",
       "[5 rows x 113 columns]"
      ]
     },
     "execution_count": 3,
     "metadata": {},
     "output_type": "execute_result"
    }
   ],
   "source": [
    "df_dim = df_salud.shape\n",
    "print(\">> El dataframe contiene {} columnas y {} filas\\n\".format(df_dim[1], df_dim[0]))\n",
    "print(\">> El dataframe se ve de la siguiente forma: \")\n",
    "df_salud.head()"
   ]
  },
  {
   "cell_type": "code",
   "execution_count": 4,
   "metadata": {},
   "outputs": [
    {
     "name": "stdout",
     "output_type": "stream",
     "text": [
      ">> El diccionario de datos es el siguiente: \n"
     ]
    },
    {
     "data": {
      "text/html": [
       "<div>\n",
       "<style scoped>\n",
       "    .dataframe tbody tr th:only-of-type {\n",
       "        vertical-align: middle;\n",
       "    }\n",
       "\n",
       "    .dataframe tbody tr th {\n",
       "        vertical-align: top;\n",
       "    }\n",
       "\n",
       "    .dataframe thead th {\n",
       "        text-align: right;\n",
       "    }\n",
       "</style>\n",
       "<table border=\"1\" class=\"dataframe\">\n",
       "  <thead>\n",
       "    <tr style=\"text-align: right;\">\n",
       "      <th></th>\n",
       "      <th>NOMBRE COLUMNA</th>\n",
       "      <th>TEXTO_PREGUNTA</th>\n",
       "    </tr>\n",
       "  </thead>\n",
       "  <tbody>\n",
       "    <tr>\n",
       "      <th>0</th>\n",
       "      <td>DIRECTORIO</td>\n",
       "      <td>Identificador numérico de vivienda</td>\n",
       "    </tr>\n",
       "    <tr>\n",
       "      <th>1</th>\n",
       "      <td>DPTO</td>\n",
       "      <td>1. Departamento</td>\n",
       "    </tr>\n",
       "    <tr>\n",
       "      <th>2</th>\n",
       "      <td>MPIO</td>\n",
       "      <td>2. Municipio</td>\n",
       "    </tr>\n",
       "    <tr>\n",
       "      <th>3</th>\n",
       "      <td>CLASE</td>\n",
       "      <td>clase</td>\n",
       "    </tr>\n",
       "    <tr>\n",
       "      <th>4</th>\n",
       "      <td>COD_LOCALIDAD</td>\n",
       "      <td>Código de la localidad</td>\n",
       "    </tr>\n",
       "    <tr>\n",
       "      <th>...</th>\n",
       "      <td>...</td>\n",
       "      <td>...</td>\n",
       "    </tr>\n",
       "    <tr>\n",
       "      <th>1588</th>\n",
       "      <td>NHCMP12AUA24</td>\n",
       "      <td>12.2.25.25 Insumos para actividades agrícolas del hogar. Solo Bogotá rural y municipios                                                                      ¿En cuánto estima el valor obtenido</td>\n",
       "    </tr>\n",
       "    <tr>\n",
       "      <th>1589</th>\n",
       "      <td>NHCMP12AUB24_1</td>\n",
       "      <td>12.2.25. ¿Cómo lo obtuvieron?                                                                                              1 Tomado de un negocio del hogar\\nInsumos para actividades agrícolas del hogar. Solo Bogotá rural y municipios</td>\n",
       "    </tr>\n",
       "    <tr>\n",
       "      <th>1590</th>\n",
       "      <td>NHCMP12AUB24_2</td>\n",
       "      <td>12.2.25 ¿Cómo lo obtuvieron?                                                                                            2 Recibido como pago por trabajo\\nInsumos para actividades agrícolas del hogar. Solo Bogotá rural y municipios</td>\n",
       "    </tr>\n",
       "    <tr>\n",
       "      <th>1591</th>\n",
       "      <td>NHCMP12AUB24_3</td>\n",
       "      <td>12.2.25  ¿Cómo lo obtuvieron?                                                                                            3 Regalado\\nInsumos para actividades agrícolas del hogar. Solo Bogotá rural y municipios</td>\n",
       "    </tr>\n",
       "    <tr>\n",
       "      <th>1592</th>\n",
       "      <td>NHCMP12AUB24_4</td>\n",
       "      <td>12.2.25 ¿Cómo lo obtuvieron?                                                                                                   4 Por intercambio o trueque\\nInsumos para actividades agrícolas del hogar. Solo Bogotá rural y municipios</td>\n",
       "    </tr>\n",
       "  </tbody>\n",
       "</table>\n",
       "<p>1593 rows × 2 columns</p>\n",
       "</div>"
      ],
      "text/plain": [
       "      NOMBRE COLUMNA  \\\n",
       "0         DIRECTORIO   \n",
       "1               DPTO   \n",
       "2               MPIO   \n",
       "3              CLASE   \n",
       "4      COD_LOCALIDAD   \n",
       "...              ...   \n",
       "1588    NHCMP12AUA24   \n",
       "1589  NHCMP12AUB24_1   \n",
       "1590  NHCMP12AUB24_2   \n",
       "1591  NHCMP12AUB24_3   \n",
       "1592  NHCMP12AUB24_4   \n",
       "\n",
       "                                                                                                                                                                                                                                   TEXTO_PREGUNTA  \n",
       "0                                                                                                                                                                                                              Identificador numérico de vivienda  \n",
       "1                                                                                                                                                                                                                                 1. Departamento  \n",
       "2                                                                                                                                                                                                                                    2. Municipio  \n",
       "3                                                                                                                                                                                                                                           clase  \n",
       "4                                                                                                                                                                                                                          Código de la localidad  \n",
       "...                                                                                                                                                                                                                                           ...  \n",
       "1588                                             12.2.25.25 Insumos para actividades agrícolas del hogar. Solo Bogotá rural y municipios                                                                      ¿En cuánto estima el valor obtenido  \n",
       "1589  12.2.25. ¿Cómo lo obtuvieron?                                                                                              1 Tomado de un negocio del hogar\\nInsumos para actividades agrícolas del hogar. Solo Bogotá rural y municipios    \n",
       "1590     12.2.25 ¿Cómo lo obtuvieron?                                                                                            2 Recibido como pago por trabajo\\nInsumos para actividades agrícolas del hogar. Solo Bogotá rural y municipios    \n",
       "1591                          12.2.25  ¿Cómo lo obtuvieron?                                                                                            3 Regalado\\nInsumos para actividades agrícolas del hogar. Solo Bogotá rural y municipios    \n",
       "1592   12.2.25 ¿Cómo lo obtuvieron?                                                                                                   4 Por intercambio o trueque\\nInsumos para actividades agrícolas del hogar. Solo Bogotá rural y municipios    \n",
       "\n",
       "[1593 rows x 2 columns]"
      ]
     },
     "execution_count": 4,
     "metadata": {},
     "output_type": "execute_result"
    }
   ],
   "source": [
    "\n",
    "pd.set_option('display.max_colwidth', None)\n",
    "df_diccio.rename(columns={'ï»¿Variable name': 'Column'}, inplace=True)\n",
    "print(\">> El diccionario de datos es el siguiente: \")\n",
    "df_diccio[['NOMBRE COLUMNA', 'TEXTO_PREGUNTA']]"
   ]
  },
  {
   "cell_type": "markdown",
   "metadata": {},
   "source": [
    "<h5>1.1. Entendimiento de contenido</h5>"
   ]
  },
  {
   "cell_type": "markdown",
   "metadata": {},
   "source": [
    "Se visualizan las variables para identificar tendencias, correlaciones y posibles valores atípicos que pueden afectar nuestro proceso de análisis y toma de decisiones. "
   ]
  },
  {
   "cell_type": "code",
   "execution_count": 5,
   "metadata": {},
   "outputs": [
    {
     "name": "stdout",
     "output_type": "stream",
     "text": [
      ">> Se visualizan los datos en conjunto: \n"
     ]
    },
    {
     "data": {
      "image/png": "[encoded data removed]",
      "text/plain": [
       "<Figure size 5000x3000 with 1 Axes>"
      ]
     },
     "metadata": {},
     "output_type": "display_data"
    }
   ],
   "source": [
    "# Visualización de todas las variables\n",
    "fig = plt.figure(figsize=(50, 30))\n",
    "ax = sns.boxplot(data=df_salud, orient=\"v\")\n",
    "print(\">> Se visualizan los datos en conjunto: \")\n",
    "plt.show()"
   ]
  },
  {
   "cell_type": "markdown",
   "metadata": {},
   "source": [
    "Ya que se tienen escalas significativamente diferentes, se procede a normalizar los datos, para que que cada columna contribuya de manera igual al análisis y evitar cualquier sesgo causado por las diferencias en las escalas.\n",
    "\n",
    "Para normalizar los datos, utilizaremos la técnica de escala Min-Max, que transforma cada valor en una columna a un valor entre 0 y 10 basado en los valores mínimo y máximo en esa columna.\n",
    "\n",
    "Una vez que los datos estén normalizados, podemos proceder con el entendimiento de los datos al poder observarlos mejor.\n"
   ]
  },
  {
   "cell_type": "markdown",
   "metadata": {},
   "source": [
    "<h5>1.2. Calidad de datos</h5>"
   ]
  },
  {
   "cell_type": "markdown",
   "metadata": {},
   "source": [
    "En esta sección se identifican los datos que son incorrectos."
   ]
  },
  {
   "cell_type": "code",
   "execution_count": 6,
   "metadata": {},
   "outputs": [
    {
     "name": "stdout",
     "output_type": "stream",
     "text": [
      ">> Se puede observar la información detallada de cada columna:\n",
      "\n",
      "<class 'pandas.core.frame.DataFrame'>\n",
      "RangeIndex: 319952 entries, 0 to 319951\n",
      "Columns: 113 entries, ï»¿DIRECTORIO_PER to FEX_C\n",
      "dtypes: int64(31), object(82)\n",
      "memory usage: 275.8+ MB\n"
     ]
    }
   ],
   "source": [
    "print(\">> Se puede observar la información detallada de cada columna:\\n\")\n",
    "df_salud.info()"
   ]
  },
  {
   "cell_type": "code",
   "execution_count": 11,
   "metadata": {},
   "outputs": [],
   "source": [
    "#non_numeric_balance = df_plantas[pd.to_numeric(df_plantas['Luz'], errors='coerce').isnull()]\n",
    "#print(\">> A continuación se muestran los datos no numéricos de la columna:\\n\")\n",
    "#print(non_numeric_balance[['No', 'Microbio']])\n"
   ]
  },
  {
   "cell_type": "markdown",
   "metadata": {},
   "source": [
    "<h5>Análisis de completitud, unicidad y validez</h5>"
   ]
  },
  {
   "cell_type": "code",
   "execution_count": 7,
   "metadata": {},
   "outputs": [
    {
     "name": "stdout",
     "output_type": "stream",
     "text": [
      ">> Los porcentajes de valores nulos en cada columna son los siguientes: \n",
      "ï»¿DIRECTORIO_PER    0.0\n",
      "NPCFP21I             0.0\n",
      "NPCFP33D             0.0\n",
      "NPCFP33CA            0.0\n",
      "NPCFP33C             0.0\n",
      "NPCFP33BA            0.0\n",
      "NPCFP33B             0.0\n",
      "NPCFP33AA            0.0\n",
      "NPCFP33A             0.0\n",
      "NPCFP32              0.0\n",
      "NPCFP31              0.0\n",
      "NPCFP30              0.0\n",
      "NPCFP29              0.0\n",
      "NPCFP27              0.0\n",
      "NPCFP26A             0.0\n",
      "NPCFP26              0.0\n",
      "NPCFP25F             0.0\n",
      "NPCFP25E             0.0\n",
      "NPCFP25C             0.0\n",
      "NPCFP25BA            0.0\n",
      "NPCFP25B             0.0\n",
      "NPCFP25A             0.0\n",
      "NPCFP24C             0.0\n",
      "NPCFP24B             0.0\n",
      "NPCFP24A             0.0\n",
      "NPCFP24              0.0\n",
      "NPCFP23              0.0\n",
      "NPCFP33DA            0.0\n",
      "NPCFP33E             0.0\n",
      "NPCFP33EA            0.0\n",
      "NPCFP40B             0.0\n",
      "NPCFP45              0.0\n",
      "NPCFP44              0.0\n",
      "NPCFP43A             0.0\n",
      "NPCFP43              0.0\n",
      "NPCFP42              0.0\n",
      "NPCFP41              0.0\n",
      "NPCFP40              0.0\n",
      "NPCFP40F             0.0\n",
      "NPCFP40E             0.0\n",
      "NPCFP40D             0.0\n",
      "NPCFP40C             0.0\n",
      "NPCFP40A             0.0\n",
      "NPCFP33F             0.0\n",
      "NPCFP39A             0.0\n",
      "NPCFP39              0.0\n",
      "NPCFP38              0.0\n",
      "NPCFP37              0.0\n",
      "NPCFP36              0.0\n",
      "NPCFP35BA            0.0\n",
      "NPCFP35B             0.0\n",
      "NPCFP35AA            0.0\n",
      "NPCFP35A             0.0\n",
      "NPCFP34              0.0\n",
      "NPCFP33FA            0.0\n",
      "NPCFP22              0.0\n",
      "NPCFP21H             0.0\n",
      "DIRECTORIO_HOG       0.0\n",
      "NPCFP21G             0.0\n",
      "NPCFP12              0.0\n",
      "NPCFP11A             0.0\n",
      "NPCFP11              0.0\n",
      "NPCFP10E             0.0\n",
      "NPCFP10D             0.0\n",
      "NPCFP10C             0.0\n",
      "NPCFP10B             0.0\n",
      "NPCFP10A             0.0\n",
      "NPCFP9               0.0\n",
      "NPCFP8B              0.0\n",
      "NPCFP8A              0.0\n",
      "NPCFP8               0.0\n",
      "NPCFP7               0.0\n",
      "NPCFP5               0.0\n",
      "NPCFP4E              0.0\n",
      "NPCFP4D              0.0\n",
      "NPCFP4C              0.0\n",
      "NPCFP4B              0.0\n",
      "NPCFP4A              0.0\n",
      "NPCFP3               0.0\n",
      "NPCFP2               0.0\n",
      "NPCFP1               0.0\n",
      "ORDEN                0.0\n",
      "SECUENCIA_P          0.0\n",
      "DIRECTORIO           0.0\n",
      "NPCFP13A             0.0\n",
      "NPCFP13B             0.0\n",
      "NPCFP13C             0.0\n",
      "NPCFP14L             0.0\n",
      "NPCFP21F             0.0\n",
      "NPCFP21E             0.0\n",
      "NPCFP21D             0.0\n",
      "NPCFP21C             0.0\n",
      "NPCFP21B             0.0\n",
      "NPCFP21A             0.0\n",
      "NPCFP20              0.0\n",
      "NPCFP19              0.0\n",
      "NPCFP18              0.0\n",
      "NPCFP16              0.0\n",
      "NPCFP15              0.0\n",
      "NPCFP14K             0.0\n",
      "NPCFP13D             0.0\n",
      "NPCFP14J             0.0\n",
      "NPCFP14I             0.0\n",
      "NPCFP14H             0.0\n",
      "NPCFP14G             0.0\n",
      "NPCFP14F             0.0\n",
      "NPCFP14E             0.0\n",
      "NPCFP14D             0.0\n",
      "NPCFP14C             0.0\n",
      "NPCFP14B             0.0\n",
      "NPCFP14A             0.0\n",
      "NPCFP13E             0.0\n",
      "FEX_C                0.0\n",
      "dtype: float64\n"
     ]
    }
   ],
   "source": [
    "pd.set_option('display.max_rows', None)\n",
    "\n",
    "# Calcula los porcentajes de valores nulos en cada columna y muéstralos\n",
    "print(\">> Los porcentajes de valores nulos en cada columna son los siguientes: \")\n",
    "print((df_salud.isnull().sum() / len(df_salud) * 100).sort_values(ascending=False))\n"
   ]
  },
  {
   "cell_type": "code",
   "execution_count": null,
   "metadata": {},
   "outputs": [
    {
     "data": {
      "application/vnd.jupyter.widget-view+json": {
       "model_id": "178c18693e9346568c2345f8379cfb8c",
       "version_major": 2,
       "version_minor": 0
      },
      "text/plain": [
       "Summarize dataset:   0%|          | 0/5 [00:00<?, ?it/s]"
      ]
     },
     "metadata": {},
     "output_type": "display_data"
    }
   ],
   "source": [
    "profile = ProfileReport(df_salud, title=\"Reporte de Salud 2017\")\n",
    "profile.to_notebook_iframe()\n",
    "profile.to_file(\"2017Reporte datos Salud.html\")"
   ]
  },
  {
   "cell_type": "code",
   "execution_count": null,
   "metadata": {},
   "outputs": [],
   "source": []
  }
 ],
 "metadata": {
  "kernelspec": {
   "display_name": "Python 3 (ipykernel)",
   "language": "python",
   "name": "python3"
  },
  "language_info": {
   "codemirror_mode": {
    "name": "ipython",
    "version": 3
   },
   "file_extension": ".py",
   "mimetype": "text/x-python",
   "name": "python",
   "nbconvert_exporter": "python",
   "pygments_lexer": "ipython3",
   "version": "3.11.5"
  }
 },
 "nbformat": 4,
 "nbformat_minor": 4
}
