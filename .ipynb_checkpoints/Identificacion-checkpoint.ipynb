{
 "cells": [
  {
   "cell_type": "markdown",
   "metadata": {},
   "source": [
    "<h1>Preparacion de Datos Proyecto 2</h1>\n",
    "<h2>Grupo 5</h2>\n"
   ]
  },
  {
   "cell_type": "markdown",
   "metadata": {},
   "source": [
    "<h3>Limpieza y preparacion de los datos</h3>"
   ]
  },
  {
   "cell_type": "markdown",
   "metadata": {},
   "source": [
    "<h4>Descripción de los datos</h4>"
   ]
  },
  {
   "cell_type": "markdown",
   "metadata": {},
   "source": [
    "* Análisis de los datos: contienen XXXX registros y XXX variables diferentes.\n",
    "\n",
    "* Variables y tipos de datos: contiene XXX variables de las cuales XXX de ellas son numéricas. \n",
    "\n",
    "* XX son variables categóricas. \n",
    "\n",
    "* Variables Numéricas:\n",
    "\n",
    "A continuación se ve información relevante sobre las variables numéricas:\n",
    "\n",
    "XX se encuentra entre XX y XX, con una desviación estándar que sugiere una alta variabilidad de los datos (XX aproximadamente). \n",
    "\n"
   ]
  },
  {
   "cell_type": "markdown",
   "metadata": {},
   "source": [
    "<h4>Exploración de los datos:</h4>\n",
    "\n",
    "Outliers: se presentan outliers en XXXX con respecto al diccionario de datos\n",
    "    \n",
    "\n",
    "<h4>Calidad de los datos:</h4>\n",
    "\n",
    "Datos Duplicados: Se identificaron XX datos duplicados en el conjunto de datos.\n",
    "\n",
    "Datos incompletos o vacíos: Se encontraron datos vacíos en las variables:\n",
    "\n",
    "Datos categóricos en variables numéricas: Evento es un dato categórico que está representado con variable numérica. Debido a que de este dato no se conoce lo que representa o un rango de valores esperado se planea su eliminación ya que al momento de interpretar la información del modelo no se tendrá claro su significado. \n",
    "\n",
    "Problemas de validez de datos: "
   ]
  },
  {
   "cell_type": "markdown",
   "metadata": {},
   "source": [
    "<h4>Entendimiento de datos:</h4>\n",
    "\n",
    "Datos duplicados: Se eliminan los datos duplicados\n",
    "\n",
    "Datos incompletos o vacíos: \n",
    "\n",
    "\n",
    "Se eliminan los valores atípicos ya que pueden afectar negativamente al modelo.\n",
    "\n",
    "Finalmente, el conjunto de datos posee XXXX registros y XXX variables"
   ]
  },
  {
   "cell_type": "markdown",
   "metadata": {},
   "source": [
    "<h4> 0. Carga de librerías necesarias para implementación y carga de datos</h4>"
   ]
  },
  {
   "cell_type": "code",
   "execution_count": 1,
   "metadata": {},
   "outputs": [],
   "source": [
    "import os\n",
    "\n",
    "import pandas as pd\n",
    "\n",
    "import numpy as np\n",
    "\n",
    "import matplotlib.pyplot as plt\n",
    "\n",
    "import ydata_profiling as pp\n",
    "\n",
    "from sklearn.cluster import AgglomerativeClustering\n",
    "\n",
    "import seaborn as sns; sns.set()  # for plot styling\n",
    "\n",
    "from sklearn.cluster import KMeans\n",
    "\n",
    "from sklearn.metrics import silhouette_samples, silhouette_score\n",
    "\n",
    "from sklearn.preprocessing import MinMaxScaler\n",
    "\n",
    "from sklearn import metrics\n",
    "\n",
    "from sklearn.impute import SimpleImputer\n",
    "\n",
    "from sklearn.preprocessing import LabelEncoder\n",
    "\n",
    "\n",
    "\n",
    "from ydata_profiling import ProfileReport\n",
    "\n",
    "from matplotlib import cm\n",
    "\n",
    "import warnings\n",
    "# Ignorar la advertencia RuntimeWarning\n",
    "warnings.filterwarnings(\"ignore\", category=RuntimeWarning)\n",
    "warnings.filterwarnings(\"ignore\", category=DeprecationWarning)\n",
    "warnings.filterwarnings(\"ignore\", message=\"The figure layout has changed to tight\", category=UserWarning)\n",
    "warnings.simplefilter(action='ignore', category=FutureWarning)\n",
    "warnings.filterwarnings(\"ignore\", message=\"The default value of `n_init` will change from 10 to 'auto' in 1.4.\", category=FutureWarning)"
   ]
  },
  {
   "cell_type": "code",
   "execution_count": 2,
   "metadata": {},
   "outputs": [],
   "source": [
    "# Se cargan los datos. \n",
    "df_id= pd.read_csv('data/Identificación (Capítulo A).csv',  sep=';',encoding=\"ISO-8859-1\")\n",
    "# se carga el diccionario\n",
    "df_diccio = pd.read_excel('data/Diccionario_anonimizado_DANE_EM2021.xlsx')"
   ]
  },
  {
   "cell_type": "markdown",
   "metadata": {},
   "source": [
    "<strong><h4>1. Entendimiento de los datos</h4></strong>"
   ]
  },
  {
   "cell_type": "markdown",
   "metadata": {},
   "source": [
    "Para entender los datos se considera importante entender la cantidad de datos que se tiene, verificar cuantas columnas y filas tienen los datos proporcionados"
   ]
  },
  {
   "cell_type": "code",
   "execution_count": 4,
   "metadata": {},
   "outputs": [
    {
     "name": "stdout",
     "output_type": "stream",
     "text": [
      ">> El dataframe contiene 11 columnas y 106467 filas\n",
      "\n",
      ">> El dataframe se ve de la siguiente forma: \n"
     ]
    },
    {
     "data": {
      "text/html": [
       "<div>\n",
       "<style scoped>\n",
       "    .dataframe tbody tr th:only-of-type {\n",
       "        vertical-align: middle;\n",
       "    }\n",
       "\n",
       "    .dataframe tbody tr th {\n",
       "        vertical-align: top;\n",
       "    }\n",
       "\n",
       "    .dataframe thead th {\n",
       "        text-align: right;\n",
       "    }\n",
       "</style>\n",
       "<table border=\"1\" class=\"dataframe\">\n",
       "  <thead>\n",
       "    <tr style=\"text-align: right;\">\n",
       "      <th></th>\n",
       "      <th>DIRECTORIO</th>\n",
       "      <th>DPTO</th>\n",
       "      <th>MPIO</th>\n",
       "      <th>CLASE</th>\n",
       "      <th>COD_LOCALIDAD</th>\n",
       "      <th>NOMBRE_LOCALIDAD</th>\n",
       "      <th>COD_UPZ_GRUPO</th>\n",
       "      <th>NOMBRE_UPZ_GRUPO</th>\n",
       "      <th>ESTRATO2021</th>\n",
       "      <th>NOMBRE_ESTRATO</th>\n",
       "      <th>FEX_C</th>\n",
       "    </tr>\n",
       "  </thead>\n",
       "  <tbody>\n",
       "    <tr>\n",
       "      <th>0</th>\n",
       "      <td>3004346.0</td>\n",
       "      <td>11</td>\n",
       "      <td>11001</td>\n",
       "      <td>1</td>\n",
       "      <td>3.0</td>\n",
       "      <td>Santa Fe</td>\n",
       "      <td>814.0</td>\n",
       "      <td>SANTA FE: Las Nieves + Sagrado Corazón</td>\n",
       "      <td>11001187</td>\n",
       "      <td>SANTA FE: Las Nieves + Sagrado Corazón</td>\n",
       "      <td>13,2266692027239</td>\n",
       "    </tr>\n",
       "    <tr>\n",
       "      <th>1</th>\n",
       "      <td>3004347.0</td>\n",
       "      <td>11</td>\n",
       "      <td>11001</td>\n",
       "      <td>1</td>\n",
       "      <td>14.0</td>\n",
       "      <td>Los Mártires</td>\n",
       "      <td>37.0</td>\n",
       "      <td>Santa Isabel</td>\n",
       "      <td>11001162</td>\n",
       "      <td>Santa Isabel</td>\n",
       "      <td>17,8555889419101</td>\n",
       "    </tr>\n",
       "    <tr>\n",
       "      <th>2</th>\n",
       "      <td>3004348.0</td>\n",
       "      <td>11</td>\n",
       "      <td>11001</td>\n",
       "      <td>1</td>\n",
       "      <td>3.0</td>\n",
       "      <td>Santa Fe</td>\n",
       "      <td>814.0</td>\n",
       "      <td>SANTA FE: Las Nieves + Sagrado Corazón</td>\n",
       "      <td>11001187</td>\n",
       "      <td>SANTA FE: Las Nieves + Sagrado Corazón</td>\n",
       "      <td>10,0286103658331</td>\n",
       "    </tr>\n",
       "    <tr>\n",
       "      <th>3</th>\n",
       "      <td>3004349.0</td>\n",
       "      <td>11</td>\n",
       "      <td>11001</td>\n",
       "      <td>1</td>\n",
       "      <td>1.0</td>\n",
       "      <td>Usaquén</td>\n",
       "      <td>803.0</td>\n",
       "      <td>USAQUÉN: Country Club + Santa Bárbara</td>\n",
       "      <td>11001176</td>\n",
       "      <td>USAQUÉN: Country Club + Santa Bárbara</td>\n",
       "      <td>28,6502122142802</td>\n",
       "    </tr>\n",
       "    <tr>\n",
       "      <th>4</th>\n",
       "      <td>3004350.0</td>\n",
       "      <td>11</td>\n",
       "      <td>11001</td>\n",
       "      <td>1</td>\n",
       "      <td>1.0</td>\n",
       "      <td>Usaquén</td>\n",
       "      <td>803.0</td>\n",
       "      <td>USAQUÉN: Country Club + Santa Bárbara</td>\n",
       "      <td>11001176</td>\n",
       "      <td>USAQUÉN: Country Club + Santa Bárbara</td>\n",
       "      <td>24,4684068319009</td>\n",
       "    </tr>\n",
       "  </tbody>\n",
       "</table>\n",
       "</div>"
      ],
      "text/plain": [
       "   DIRECTORIO  DPTO   MPIO  CLASE  COD_LOCALIDAD NOMBRE_LOCALIDAD  \\\n",
       "0   3004346.0    11  11001      1            3.0         Santa Fe   \n",
       "1   3004347.0    11  11001      1           14.0     Los Mártires   \n",
       "2   3004348.0    11  11001      1            3.0         Santa Fe   \n",
       "3   3004349.0    11  11001      1            1.0          Usaquén   \n",
       "4   3004350.0    11  11001      1            1.0          Usaquén   \n",
       "\n",
       "   COD_UPZ_GRUPO                        NOMBRE_UPZ_GRUPO  ESTRATO2021  \\\n",
       "0          814.0  SANTA FE: Las Nieves + Sagrado Corazón     11001187   \n",
       "1           37.0                            Santa Isabel     11001162   \n",
       "2          814.0  SANTA FE: Las Nieves + Sagrado Corazón     11001187   \n",
       "3          803.0   USAQUÉN: Country Club + Santa Bárbara     11001176   \n",
       "4          803.0   USAQUÉN: Country Club + Santa Bárbara     11001176   \n",
       "\n",
       "                           NOMBRE_ESTRATO             FEX_C  \n",
       "0  SANTA FE: Las Nieves + Sagrado Corazón  13,2266692027239  \n",
       "1                            Santa Isabel  17,8555889419101  \n",
       "2  SANTA FE: Las Nieves + Sagrado Corazón  10,0286103658331  \n",
       "3   USAQUÉN: Country Club + Santa Bárbara  28,6502122142802  \n",
       "4   USAQUÉN: Country Club + Santa Bárbara  24,4684068319009  "
      ]
     },
     "execution_count": 4,
     "metadata": {},
     "output_type": "execute_result"
    }
   ],
   "source": [
    "df_dim = df_id.shape\n",
    "print(\">> El dataframe contiene {} columnas y {} filas\\n\".format(df_dim[1], df_dim[0]))\n",
    "print(\">> El dataframe se ve de la siguiente forma: \")\n",
    "df_id.head()"
   ]
  },
  {
   "cell_type": "code",
   "execution_count": 5,
   "metadata": {},
   "outputs": [
    {
     "name": "stdout",
     "output_type": "stream",
     "text": [
      ">> El diccionario de datos es el siguiente: \n"
     ]
    },
    {
     "data": {
      "text/html": [
       "<div>\n",
       "<style scoped>\n",
       "    .dataframe tbody tr th:only-of-type {\n",
       "        vertical-align: middle;\n",
       "    }\n",
       "\n",
       "    .dataframe tbody tr th {\n",
       "        vertical-align: top;\n",
       "    }\n",
       "\n",
       "    .dataframe thead th {\n",
       "        text-align: right;\n",
       "    }\n",
       "</style>\n",
       "<table border=\"1\" class=\"dataframe\">\n",
       "  <thead>\n",
       "    <tr style=\"text-align: right;\">\n",
       "      <th></th>\n",
       "      <th>NOMBRE COLUMNA</th>\n",
       "      <th>TEXTO_PREGUNTA</th>\n",
       "    </tr>\n",
       "  </thead>\n",
       "  <tbody>\n",
       "    <tr>\n",
       "      <th>0</th>\n",
       "      <td>DIRECTORIO</td>\n",
       "      <td>Identificador numérico de vivienda</td>\n",
       "    </tr>\n",
       "    <tr>\n",
       "      <th>1</th>\n",
       "      <td>DPTO</td>\n",
       "      <td>1. Departamento</td>\n",
       "    </tr>\n",
       "    <tr>\n",
       "      <th>2</th>\n",
       "      <td>MPIO</td>\n",
       "      <td>2. Municipio</td>\n",
       "    </tr>\n",
       "    <tr>\n",
       "      <th>3</th>\n",
       "      <td>CLASE</td>\n",
       "      <td>clase</td>\n",
       "    </tr>\n",
       "    <tr>\n",
       "      <th>4</th>\n",
       "      <td>COD_LOCALIDAD</td>\n",
       "      <td>Código de la localidad</td>\n",
       "    </tr>\n",
       "    <tr>\n",
       "      <th>...</th>\n",
       "      <td>...</td>\n",
       "      <td>...</td>\n",
       "    </tr>\n",
       "    <tr>\n",
       "      <th>1588</th>\n",
       "      <td>NHCMP12AUA24</td>\n",
       "      <td>12.2.25.25 Insumos para actividades agrícolas del hogar. Solo Bogotá rural y municipios                                                                      ¿En cuánto estima el valor obtenido</td>\n",
       "    </tr>\n",
       "    <tr>\n",
       "      <th>1589</th>\n",
       "      <td>NHCMP12AUB24_1</td>\n",
       "      <td>12.2.25. ¿Cómo lo obtuvieron?                                                                                              1 Tomado de un negocio del hogar\\nInsumos para actividades agrícolas del hogar. Solo Bogotá rural y municipios</td>\n",
       "    </tr>\n",
       "    <tr>\n",
       "      <th>1590</th>\n",
       "      <td>NHCMP12AUB24_2</td>\n",
       "      <td>12.2.25 ¿Cómo lo obtuvieron?                                                                                            2 Recibido como pago por trabajo\\nInsumos para actividades agrícolas del hogar. Solo Bogotá rural y municipios</td>\n",
       "    </tr>\n",
       "    <tr>\n",
       "      <th>1591</th>\n",
       "      <td>NHCMP12AUB24_3</td>\n",
       "      <td>12.2.25  ¿Cómo lo obtuvieron?                                                                                            3 Regalado\\nInsumos para actividades agrícolas del hogar. Solo Bogotá rural y municipios</td>\n",
       "    </tr>\n",
       "    <tr>\n",
       "      <th>1592</th>\n",
       "      <td>NHCMP12AUB24_4</td>\n",
       "      <td>12.2.25 ¿Cómo lo obtuvieron?                                                                                                   4 Por intercambio o trueque\\nInsumos para actividades agrícolas del hogar. Solo Bogotá rural y municipios</td>\n",
       "    </tr>\n",
       "  </tbody>\n",
       "</table>\n",
       "<p>1593 rows × 2 columns</p>\n",
       "</div>"
      ],
      "text/plain": [
       "      NOMBRE COLUMNA  \\\n",
       "0         DIRECTORIO   \n",
       "1               DPTO   \n",
       "2               MPIO   \n",
       "3              CLASE   \n",
       "4      COD_LOCALIDAD   \n",
       "...              ...   \n",
       "1588    NHCMP12AUA24   \n",
       "1589  NHCMP12AUB24_1   \n",
       "1590  NHCMP12AUB24_2   \n",
       "1591  NHCMP12AUB24_3   \n",
       "1592  NHCMP12AUB24_4   \n",
       "\n",
       "                                                                                                                                                                                                                                   TEXTO_PREGUNTA  \n",
       "0                                                                                                                                                                                                              Identificador numérico de vivienda  \n",
       "1                                                                                                                                                                                                                                 1. Departamento  \n",
       "2                                                                                                                                                                                                                                    2. Municipio  \n",
       "3                                                                                                                                                                                                                                           clase  \n",
       "4                                                                                                                                                                                                                          Código de la localidad  \n",
       "...                                                                                                                                                                                                                                           ...  \n",
       "1588                                             12.2.25.25 Insumos para actividades agrícolas del hogar. Solo Bogotá rural y municipios                                                                      ¿En cuánto estima el valor obtenido  \n",
       "1589  12.2.25. ¿Cómo lo obtuvieron?                                                                                              1 Tomado de un negocio del hogar\\nInsumos para actividades agrícolas del hogar. Solo Bogotá rural y municipios    \n",
       "1590     12.2.25 ¿Cómo lo obtuvieron?                                                                                            2 Recibido como pago por trabajo\\nInsumos para actividades agrícolas del hogar. Solo Bogotá rural y municipios    \n",
       "1591                          12.2.25  ¿Cómo lo obtuvieron?                                                                                            3 Regalado\\nInsumos para actividades agrícolas del hogar. Solo Bogotá rural y municipios    \n",
       "1592   12.2.25 ¿Cómo lo obtuvieron?                                                                                                   4 Por intercambio o trueque\\nInsumos para actividades agrícolas del hogar. Solo Bogotá rural y municipios    \n",
       "\n",
       "[1593 rows x 2 columns]"
      ]
     },
     "execution_count": 5,
     "metadata": {},
     "output_type": "execute_result"
    }
   ],
   "source": [
    "\n",
    "pd.set_option('display.max_colwidth', None)\n",
    "df_diccio.rename(columns={'ï»¿Variable name': 'Column'}, inplace=True)\n",
    "print(\">> El diccionario de datos es el siguiente: \")\n",
    "df_diccio[['NOMBRE COLUMNA', 'TEXTO_PREGUNTA']]"
   ]
  },
  {
   "cell_type": "markdown",
   "metadata": {},
   "source": [
    "<h5>1.1. Entendimiento de contenido</h5>"
   ]
  },
  {
   "cell_type": "markdown",
   "metadata": {},
   "source": [
    "Se visualizan las variables para identificar tendencias, correlaciones y posibles valores atípicos que pueden afectar nuestro proceso de análisis y toma de decisiones. "
   ]
  },
  {
   "cell_type": "code",
   "execution_count": 6,
   "metadata": {},
   "outputs": [
    {
     "name": "stdout",
     "output_type": "stream",
     "text": [
      ">> Se visualizan los datos en conjunto: \n"
     ]
    },
    {
     "data": {
      "image/png": "[encoded data removed]",
      "text/plain": [
       "<Figure size 5000x3000 with 1 Axes>"
      ]
     },
     "metadata": {},
     "output_type": "display_data"
    }
   ],
   "source": [
    "# Visualización de todas las variables\n",
    "fig = plt.figure(figsize=(50, 30))\n",
    "ax = sns.boxplot(data=df_id, orient=\"v\")\n",
    "print(\">> Se visualizan los datos en conjunto: \")\n",
    "plt.show()"
   ]
  },
  {
   "cell_type": "markdown",
   "metadata": {},
   "source": [
    "Ya que se tienen escalas significativamente diferentes, se procede a normalizar los datos, para que que cada columna contribuya de manera igual al análisis y evitar cualquier sesgo causado por las diferencias en las escalas.\n",
    "\n",
    "Para normalizar los datos, utilizaremos la técnica de escala Min-Max, que transforma cada valor en una columna a un valor entre 0 y 10 basado en los valores mínimo y máximo en esa columna.\n",
    "\n",
    "Una vez que los datos estén normalizados, podemos proceder con el entendimiento de los datos al poder observarlos mejor.\n"
   ]
  },
  {
   "cell_type": "markdown",
   "metadata": {},
   "source": [
    "<h5>1.2. Calidad de datos</h5>"
   ]
  },
  {
   "cell_type": "markdown",
   "metadata": {},
   "source": [
    "En esta sección se identifican los datos que son incorrectos."
   ]
  },
  {
   "cell_type": "code",
   "execution_count": 7,
   "metadata": {},
   "outputs": [
    {
     "name": "stdout",
     "output_type": "stream",
     "text": [
      ">> Se puede observar la información detallada de cada columna:\n",
      "\n",
      "<class 'pandas.core.frame.DataFrame'>\n",
      "RangeIndex: 106467 entries, 0 to 106466\n",
      "Data columns (total 11 columns):\n",
      " #   Column            Non-Null Count   Dtype  \n",
      "---  ------            --------------   -----  \n",
      " 0   DIRECTORIO        106467 non-null  float64\n",
      " 1   DPTO              106467 non-null  int64  \n",
      " 2   MPIO              106467 non-null  int64  \n",
      " 3   CLASE             106467 non-null  int64  \n",
      " 4   COD_LOCALIDAD     86504 non-null   float64\n",
      " 5   NOMBRE_LOCALIDAD  86504 non-null   object \n",
      " 6   COD_UPZ_GRUPO     83736 non-null   float64\n",
      " 7   NOMBRE_UPZ_GRUPO  83736 non-null   object \n",
      " 8   ESTRATO2021       106467 non-null  int64  \n",
      " 9   NOMBRE_ESTRATO    106467 non-null  object \n",
      " 10  FEX_C             106467 non-null  object \n",
      "dtypes: float64(3), int64(4), object(4)\n",
      "memory usage: 8.9+ MB\n"
     ]
    }
   ],
   "source": [
    "print(\">> Se puede observar la información detallada de cada columna:\\n\")\n",
    "df_id.info()"
   ]
  },
  {
   "cell_type": "code",
   "execution_count": 11,
   "metadata": {},
   "outputs": [],
   "source": [
    "#non_numeric_balance = df_plantas[pd.to_numeric(df_plantas['Luz'], errors='coerce').isnull()]\n",
    "#print(\">> A continuación se muestran los datos no numéricos de la columna:\\n\")\n",
    "#print(non_numeric_balance[['No', 'Microbio']])\n"
   ]
  },
  {
   "cell_type": "markdown",
   "metadata": {},
   "source": [
    "<h5>Análisis de completitud, unicidad y validez</h5>"
   ]
  },
  {
   "cell_type": "code",
   "execution_count": 8,
   "metadata": {},
   "outputs": [
    {
     "name": "stdout",
     "output_type": "stream",
     "text": [
      ">> Los porcentajes de valores nulos en cada columna son los siguientes: \n",
      "COD_UPZ_GRUPO       21.350278\n",
      "NOMBRE_UPZ_GRUPO    21.350278\n",
      "COD_LOCALIDAD       18.750411\n",
      "NOMBRE_LOCALIDAD    18.750411\n",
      "DIRECTORIO           0.000000\n",
      "DPTO                 0.000000\n",
      "MPIO                 0.000000\n",
      "CLASE                0.000000\n",
      "ESTRATO2021          0.000000\n",
      "NOMBRE_ESTRATO       0.000000\n",
      "FEX_C                0.000000\n",
      "dtype: float64\n"
     ]
    }
   ],
   "source": [
    "pd.set_option('display.max_rows', None)\n",
    "\n",
    "# Calcula los porcentajes de valores nulos en cada columna y muéstralos\n",
    "print(\">> Los porcentajes de valores nulos en cada columna son los siguientes: \")\n",
    "print((df_id.isnull().sum() / len(df_id) * 100).sort_values(ascending=False))\n"
   ]
  },
  {
   "cell_type": "code",
   "execution_count": null,
   "metadata": {},
   "outputs": [
    {
     "data": {
      "application/vnd.jupyter.widget-view+json": {
       "model_id": "d614bbbdc9124d1fb82ece30285a303f",
       "version_major": 2,
       "version_minor": 0
      },
      "text/plain": [
       "Summarize dataset:   0%|          | 0/5 [00:00<?, ?it/s]"
      ]
     },
     "metadata": {},
     "output_type": "display_data"
    },
    {
     "data": {
      "application/vnd.jupyter.widget-view+json": {
       "model_id": "79e48ec9bb55493483f9ff97cea27917",
       "version_major": 2,
       "version_minor": 0
      },
      "text/plain": [
       "Generate report structure:   0%|          | 0/1 [00:00<?, ?it/s]"
      ]
     },
     "metadata": {},
     "output_type": "display_data"
    },
    {
     "data": {
      "application/vnd.jupyter.widget-view+json": {
       "model_id": "b0abd39a00cd4c2a8cc2e0a6c7561c73",
       "version_major": 2,
       "version_minor": 0
      },
      "text/plain": [
       "Render HTML:   0%|          | 0/1 [00:00<?, ?it/s]"
      ]
     },
     "metadata": {},
     "output_type": "display_data"
    }
   ],
   "source": [
    "profile = ProfileReport(df_educacion, title=\"Reporte de Educación\")\n",
    "profile.to_notebook_iframe()\n",
    "profile.to_file(\"Educacion.html\")"
   ]
  },
  {
   "cell_type": "code",
   "execution_count": null,
   "metadata": {},
   "outputs": [],
   "source": []
  }
 ],
 "metadata": {
  "kernelspec": {
   "display_name": "Python 3 (ipykernel)",
   "language": "python",
   "name": "python3"
  },
  "language_info": {
   "codemirror_mode": {
    "name": "ipython",
    "version": 3
   },
   "file_extension": ".py",
   "mimetype": "text/x-python",
   "name": "python",
   "nbconvert_exporter": "python",
   "pygments_lexer": "ipython3",
   "version": "3.11.5"
  }
 },
 "nbformat": 4,
 "nbformat_minor": 4
}
